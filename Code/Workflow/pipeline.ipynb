{
 "cells": [
  {
   "cell_type": "markdown",
   "metadata": {},
   "source": [
    "# FinanceBot Workflow\n",
    "The purpose of this file is to ensure that all dependencies are correctly installed."
   ]
  },
  {
   "cell_type": "code",
   "execution_count": null,
   "metadata": {},
   "outputs": [],
   "source": [
    " # from _setup import *"
   ]
  },
  {
   "cell_type": "code",
   "execution_count": 1,
   "metadata": {},
   "outputs": [
    {
     "name": "stderr",
     "output_type": "stream",
     "text": [
      "C:\\Users\\Trevo\\AppData\\Local\\Temp\\ipykernel_17480\\3118412726.py:59: LangChainDeprecationWarning: The class `ChatOpenAI` was deprecated in LangChain 0.0.10 and will be removed in 1.0. An updated version of the class exists in the :class:`~langchain-openai package and should be used instead. To use it run `pip install -U :class:`~langchain-openai` and import as `from :class:`~langchain_openai import ChatOpenAI``.\n",
      "  llm = ChatOpenAI(temperature=0)\n",
      "C:\\Users\\Trevo\\AppData\\Local\\Temp\\ipykernel_17480\\3118412726.py:60: LangChainDeprecationWarning: LangChain agents will continue to be supported, but it is recommended for new use cases to be built with LangGraph. LangGraph offers a more flexible and full-featured framework for building agents, including support for tool-calling, persistence of state, and human-in-the-loop workflows. For details, refer to the `LangGraph documentation <https://langchain-ai.github.io/langgraph/>`_ as well as guides for `Migrating from AgentExecutor <https://python.langchain.com/docs/how_to/migrate_agent/>`_ and LangGraph's `Pre-built ReAct agent <https://langchain-ai.github.io/langgraph/how-tos/create-react-agent/>`_.\n",
      "  agent = initialize_agent(\n"
     ]
    }
   ],
   "source": [
    "from langchain.tools import Tool\n",
    "from langchain.agents import initialize_agent, AgentType\n",
    "from langchain.chat_models import ChatOpenAI\n",
    "from langchain_community.tools import TavilySearchResults\n",
    "import yfinance as yf\n",
    "import matplotlib.pyplot as plt\n",
    "import io\n",
    "import base64\n",
    "\n",
    "def fetch_stock_data(ticker: str, period: str = \"14d\"):\n",
    "    \"\"\"Fetches historical stock data for the given ticker over the specified period.\"\"\"\n",
    "    stock = yf.Ticker(ticker)\n",
    "    data = stock.history(period=period)\n",
    "    return data\n",
    "\n",
    "def plot_stock_data(data, ticker: str):\n",
    "    \"\"\"Generates a base64-encoded plot of the stock data.\"\"\"\n",
    "    plt.figure(figsize=(10, 5))\n",
    "    plt.plot(data.index, data['Close'], label='Closing Price', marker='o')\n",
    "    plt.xlabel('Date')\n",
    "    plt.ylabel('Price (USD)')\n",
    "    plt.title(f'{ticker} Stock Price Over the Last 2 Weeks')\n",
    "    plt.legend()\n",
    "    \n",
    "    buf = io.BytesIO()\n",
    "    plt.savefig(buf, format='png')\n",
    "    buf.seek(0)\n",
    "    encoded_string = base64.b64encode(buf.getvalue()).decode('utf-8')\n",
    "    buf.close()\n",
    "    \n",
    "    return encoded_string\n",
    "\n",
    "def get_market_insights(ticker: str):\n",
    "    \"\"\"Uses TavilySearchResults to gather recent market insights related to the stock.\"\"\"\n",
    "    search = TavilySearchResults()\n",
    "    results = search.run(f\"Latest news and analysis on {ticker} stock performance\")\n",
    "    return results\n",
    "\n",
    "# Define tools for LangChain agent\n",
    "stock_data_tool = Tool(\n",
    "    name=\"Stock Data Fetcher\",\n",
    "    func=fetch_stock_data,\n",
    "    description=\"Fetches the last 2 weeks of stock data for a given ticker.\"\n",
    ")\n",
    "\n",
    "stock_plot_tool = Tool(\n",
    "    name=\"Stock Data Plotter\",\n",
    "    func=plot_stock_data,\n",
    "    description=\"Plots the stock data and returns a base64 image string.\"\n",
    ")\n",
    "\n",
    "market_insights_tool = Tool(\n",
    "    name=\"Market Insights Retriever\",\n",
    "    func=get_market_insights,\n",
    "    description=\"Fetches recent news and analysis for a given stock ticker.\"\n",
    ")\n",
    "\n",
    "# Initialize the LangChain agent\n",
    "llm = ChatOpenAI(temperature=0)\n",
    "agent = initialize_agent(\n",
    "    tools=[stock_data_tool, stock_plot_tool, market_insights_tool],\n",
    "    llm=llm,\n",
    "    agent=AgentType.ZERO_SHOT_REACT_DESCRIPTION,\n",
    "    verbose=True\n",
    ")\n"
   ]
  },
  {
   "cell_type": "code",
   "execution_count": 2,
   "metadata": {},
   "outputs": [
    {
     "data": {
      "application/vnd.microsoft.datawrangler.viewer.v0+json": {
       "columns": [
        {
         "name": "Date",
         "rawType": "datetime64[ns, America/New_York]",
         "type": "unknown"
        },
        {
         "name": "Open",
         "rawType": "float64",
         "type": "float"
        },
        {
         "name": "High",
         "rawType": "float64",
         "type": "float"
        },
        {
         "name": "Low",
         "rawType": "float64",
         "type": "float"
        },
        {
         "name": "Close",
         "rawType": "float64",
         "type": "float"
        },
        {
         "name": "Volume",
         "rawType": "int64",
         "type": "integer"
        },
        {
         "name": "Dividends",
         "rawType": "float64",
         "type": "float"
        },
        {
         "name": "Stock Splits",
         "rawType": "float64",
         "type": "float"
        }
       ],
       "conversionMethod": "pd.DataFrame",
       "ref": "24b5850d-7441-47ab-9fca-7e825c919704",
       "rows": [
        [
         "2025-01-22 00:00:00-05:00",
         "5.989999771118164",
         "6.800000190734863",
         "5.989999771118164",
         "6.46999979019165",
         "28900",
         "0.0",
         "0.0"
        ],
        [
         "2025-01-23 00:00:00-05:00",
         "6.599999904632568",
         "6.960000038146973",
         "6.599999904632568",
         "6.940000057220459",
         "24100",
         "0.0",
         "0.0"
        ],
        [
         "2025-01-24 00:00:00-05:00",
         "6.909999847412109",
         "6.989999771118164",
         "6.409999847412109",
         "6.539999961853027",
         "18900",
         "0.0",
         "0.0"
        ],
        [
         "2025-01-27 00:00:00-05:00",
         "6.429999828338623",
         "6.590000152587891",
         "6.070000171661377",
         "6.170000076293945",
         "9000",
         "0.0",
         "0.0"
        ],
        [
         "2025-01-28 00:00:00-05:00",
         "6.239999771118164",
         "6.590000152587891",
         "5.940000057220459",
         "5.960000038146973",
         "43800",
         "0.0",
         "0.0"
        ],
        [
         "2025-01-29 00:00:00-05:00",
         "6.0",
         "6.190000057220459",
         "6.0",
         "6.110000133514404",
         "5000",
         "0.0",
         "0.0"
        ],
        [
         "2025-01-30 00:00:00-05:00",
         "6.110000133514404",
         "6.199999809265137",
         "5.559999942779541",
         "5.659999847412109",
         "32200",
         "0.0",
         "0.0"
        ],
        [
         "2025-01-31 00:00:00-05:00",
         "6.0",
         "6.25",
         "5.829999923706055",
         "6.010000228881836",
         "23600",
         "0.0",
         "0.0"
        ],
        [
         "2025-02-03 00:00:00-05:00",
         "6.679999828338623",
         "6.699999809265137",
         "6.03000020980835",
         "6.460000038146973",
         "24100",
         "0.0",
         "0.0"
        ],
        [
         "2025-02-04 00:00:00-05:00",
         "6.5",
         "6.989999771118164",
         "6.079999923706055",
         "6.639999866485596",
         "42000",
         "0.0",
         "0.0"
        ],
        [
         "2025-02-05 00:00:00-05:00",
         "6.389999866485596",
         "6.849999904632568",
         "6.389999866485596",
         "6.519999980926514",
         "6000",
         "0.0",
         "0.0"
        ],
        [
         "2025-02-06 00:00:00-05:00",
         "6.960000038146973",
         "6.960000038146973",
         "6.440000057220459",
         "6.570000171661377",
         "28400",
         "0.0",
         "0.0"
        ],
        [
         "2025-02-07 00:00:00-05:00",
         "6.570000171661377",
         "6.570000171661377",
         "6.329999923706055",
         "6.449999809265137",
         "5200",
         "0.0",
         "0.0"
        ],
        [
         "2025-02-10 00:00:00-05:00",
         "6.420000076293945",
         "6.460000038146973",
         "6.21999979019165",
         "6.21999979019165",
         "8400",
         "0.0",
         "0.0"
        ]
       ],
       "shape": {
        "columns": 7,
        "rows": 14
       }
      },
      "text/html": [
       "<div>\n",
       "<style scoped>\n",
       "    .dataframe tbody tr th:only-of-type {\n",
       "        vertical-align: middle;\n",
       "    }\n",
       "\n",
       "    .dataframe tbody tr th {\n",
       "        vertical-align: top;\n",
       "    }\n",
       "\n",
       "    .dataframe thead th {\n",
       "        text-align: right;\n",
       "    }\n",
       "</style>\n",
       "<table border=\"1\" class=\"dataframe\">\n",
       "  <thead>\n",
       "    <tr style=\"text-align: right;\">\n",
       "      <th></th>\n",
       "      <th>Open</th>\n",
       "      <th>High</th>\n",
       "      <th>Low</th>\n",
       "      <th>Close</th>\n",
       "      <th>Volume</th>\n",
       "      <th>Dividends</th>\n",
       "      <th>Stock Splits</th>\n",
       "    </tr>\n",
       "    <tr>\n",
       "      <th>Date</th>\n",
       "      <th></th>\n",
       "      <th></th>\n",
       "      <th></th>\n",
       "      <th></th>\n",
       "      <th></th>\n",
       "      <th></th>\n",
       "      <th></th>\n",
       "    </tr>\n",
       "  </thead>\n",
       "  <tbody>\n",
       "    <tr>\n",
       "      <th>2025-01-22 00:00:00-05:00</th>\n",
       "      <td>5.99</td>\n",
       "      <td>6.80</td>\n",
       "      <td>5.99</td>\n",
       "      <td>6.47</td>\n",
       "      <td>28900</td>\n",
       "      <td>0.0</td>\n",
       "      <td>0.0</td>\n",
       "    </tr>\n",
       "    <tr>\n",
       "      <th>2025-01-23 00:00:00-05:00</th>\n",
       "      <td>6.60</td>\n",
       "      <td>6.96</td>\n",
       "      <td>6.60</td>\n",
       "      <td>6.94</td>\n",
       "      <td>24100</td>\n",
       "      <td>0.0</td>\n",
       "      <td>0.0</td>\n",
       "    </tr>\n",
       "    <tr>\n",
       "      <th>2025-01-24 00:00:00-05:00</th>\n",
       "      <td>6.91</td>\n",
       "      <td>6.99</td>\n",
       "      <td>6.41</td>\n",
       "      <td>6.54</td>\n",
       "      <td>18900</td>\n",
       "      <td>0.0</td>\n",
       "      <td>0.0</td>\n",
       "    </tr>\n",
       "    <tr>\n",
       "      <th>2025-01-27 00:00:00-05:00</th>\n",
       "      <td>6.43</td>\n",
       "      <td>6.59</td>\n",
       "      <td>6.07</td>\n",
       "      <td>6.17</td>\n",
       "      <td>9000</td>\n",
       "      <td>0.0</td>\n",
       "      <td>0.0</td>\n",
       "    </tr>\n",
       "    <tr>\n",
       "      <th>2025-01-28 00:00:00-05:00</th>\n",
       "      <td>6.24</td>\n",
       "      <td>6.59</td>\n",
       "      <td>5.94</td>\n",
       "      <td>5.96</td>\n",
       "      <td>43800</td>\n",
       "      <td>0.0</td>\n",
       "      <td>0.0</td>\n",
       "    </tr>\n",
       "    <tr>\n",
       "      <th>2025-01-29 00:00:00-05:00</th>\n",
       "      <td>6.00</td>\n",
       "      <td>6.19</td>\n",
       "      <td>6.00</td>\n",
       "      <td>6.11</td>\n",
       "      <td>5000</td>\n",
       "      <td>0.0</td>\n",
       "      <td>0.0</td>\n",
       "    </tr>\n",
       "    <tr>\n",
       "      <th>2025-01-30 00:00:00-05:00</th>\n",
       "      <td>6.11</td>\n",
       "      <td>6.20</td>\n",
       "      <td>5.56</td>\n",
       "      <td>5.66</td>\n",
       "      <td>32200</td>\n",
       "      <td>0.0</td>\n",
       "      <td>0.0</td>\n",
       "    </tr>\n",
       "    <tr>\n",
       "      <th>2025-01-31 00:00:00-05:00</th>\n",
       "      <td>6.00</td>\n",
       "      <td>6.25</td>\n",
       "      <td>5.83</td>\n",
       "      <td>6.01</td>\n",
       "      <td>23600</td>\n",
       "      <td>0.0</td>\n",
       "      <td>0.0</td>\n",
       "    </tr>\n",
       "    <tr>\n",
       "      <th>2025-02-03 00:00:00-05:00</th>\n",
       "      <td>6.68</td>\n",
       "      <td>6.70</td>\n",
       "      <td>6.03</td>\n",
       "      <td>6.46</td>\n",
       "      <td>24100</td>\n",
       "      <td>0.0</td>\n",
       "      <td>0.0</td>\n",
       "    </tr>\n",
       "    <tr>\n",
       "      <th>2025-02-04 00:00:00-05:00</th>\n",
       "      <td>6.50</td>\n",
       "      <td>6.99</td>\n",
       "      <td>6.08</td>\n",
       "      <td>6.64</td>\n",
       "      <td>42000</td>\n",
       "      <td>0.0</td>\n",
       "      <td>0.0</td>\n",
       "    </tr>\n",
       "    <tr>\n",
       "      <th>2025-02-05 00:00:00-05:00</th>\n",
       "      <td>6.39</td>\n",
       "      <td>6.85</td>\n",
       "      <td>6.39</td>\n",
       "      <td>6.52</td>\n",
       "      <td>6000</td>\n",
       "      <td>0.0</td>\n",
       "      <td>0.0</td>\n",
       "    </tr>\n",
       "    <tr>\n",
       "      <th>2025-02-06 00:00:00-05:00</th>\n",
       "      <td>6.96</td>\n",
       "      <td>6.96</td>\n",
       "      <td>6.44</td>\n",
       "      <td>6.57</td>\n",
       "      <td>28400</td>\n",
       "      <td>0.0</td>\n",
       "      <td>0.0</td>\n",
       "    </tr>\n",
       "    <tr>\n",
       "      <th>2025-02-07 00:00:00-05:00</th>\n",
       "      <td>6.57</td>\n",
       "      <td>6.57</td>\n",
       "      <td>6.33</td>\n",
       "      <td>6.45</td>\n",
       "      <td>5200</td>\n",
       "      <td>0.0</td>\n",
       "      <td>0.0</td>\n",
       "    </tr>\n",
       "    <tr>\n",
       "      <th>2025-02-10 00:00:00-05:00</th>\n",
       "      <td>6.42</td>\n",
       "      <td>6.46</td>\n",
       "      <td>6.22</td>\n",
       "      <td>6.22</td>\n",
       "      <td>8400</td>\n",
       "      <td>0.0</td>\n",
       "      <td>0.0</td>\n",
       "    </tr>\n",
       "  </tbody>\n",
       "</table>\n",
       "</div>"
      ],
      "text/plain": [
       "                           Open  High   Low  Close  Volume  Dividends  \\\n",
       "Date                                                                    \n",
       "2025-01-22 00:00:00-05:00  5.99  6.80  5.99   6.47   28900        0.0   \n",
       "2025-01-23 00:00:00-05:00  6.60  6.96  6.60   6.94   24100        0.0   \n",
       "2025-01-24 00:00:00-05:00  6.91  6.99  6.41   6.54   18900        0.0   \n",
       "2025-01-27 00:00:00-05:00  6.43  6.59  6.07   6.17    9000        0.0   \n",
       "2025-01-28 00:00:00-05:00  6.24  6.59  5.94   5.96   43800        0.0   \n",
       "2025-01-29 00:00:00-05:00  6.00  6.19  6.00   6.11    5000        0.0   \n",
       "2025-01-30 00:00:00-05:00  6.11  6.20  5.56   5.66   32200        0.0   \n",
       "2025-01-31 00:00:00-05:00  6.00  6.25  5.83   6.01   23600        0.0   \n",
       "2025-02-03 00:00:00-05:00  6.68  6.70  6.03   6.46   24100        0.0   \n",
       "2025-02-04 00:00:00-05:00  6.50  6.99  6.08   6.64   42000        0.0   \n",
       "2025-02-05 00:00:00-05:00  6.39  6.85  6.39   6.52    6000        0.0   \n",
       "2025-02-06 00:00:00-05:00  6.96  6.96  6.44   6.57   28400        0.0   \n",
       "2025-02-07 00:00:00-05:00  6.57  6.57  6.33   6.45    5200        0.0   \n",
       "2025-02-10 00:00:00-05:00  6.42  6.46  6.22   6.22    8400        0.0   \n",
       "\n",
       "                           Stock Splits  \n",
       "Date                                     \n",
       "2025-01-22 00:00:00-05:00           0.0  \n",
       "2025-01-23 00:00:00-05:00           0.0  \n",
       "2025-01-24 00:00:00-05:00           0.0  \n",
       "2025-01-27 00:00:00-05:00           0.0  \n",
       "2025-01-28 00:00:00-05:00           0.0  \n",
       "2025-01-29 00:00:00-05:00           0.0  \n",
       "2025-01-30 00:00:00-05:00           0.0  \n",
       "2025-01-31 00:00:00-05:00           0.0  \n",
       "2025-02-03 00:00:00-05:00           0.0  \n",
       "2025-02-04 00:00:00-05:00           0.0  \n",
       "2025-02-05 00:00:00-05:00           0.0  \n",
       "2025-02-06 00:00:00-05:00           0.0  \n",
       "2025-02-07 00:00:00-05:00           0.0  \n",
       "2025-02-10 00:00:00-05:00           0.0  "
      ]
     },
     "execution_count": 2,
     "metadata": {},
     "output_type": "execute_result"
    }
   ],
   "source": [
    "fetch_stock_data(\"FORD\")"
   ]
  },
  {
   "cell_type": "code",
   "execution_count": 7,
   "metadata": {},
   "outputs": [
    {
     "name": "stdout",
     "output_type": "stream",
     "text": [
      "\n",
      "\n",
      "\u001b[1m> Entering new AgentExecutor chain...\u001b[0m\n",
      "\u001b[32;1m\u001b[1;3mI should first fetch the latest stock data for FORD and then retrieve market insights for the same.\n",
      "Action: Stock Data Fetcher\n",
      "Action Input: ticker='FORD', period='14d'\u001b[0m"
     ]
    },
    {
     "name": "stderr",
     "output_type": "stream",
     "text": [
      "$TICKER='FORD', PERIOD='14D': possibly delisted; no price data found  (period=14d) (Yahoo error = \"No data found, symbol may be delisted\")\n"
     ]
    },
    {
     "name": "stdout",
     "output_type": "stream",
     "text": [
      "\n",
      "Observation: \u001b[36;1m\u001b[1;3mEmpty DataFrame\n",
      "Columns: [Open, High, Low, Close, Adj Close, Volume]\n",
      "Index: []\u001b[0m\n",
      "Thought:\u001b[32;1m\u001b[1;3mIt seems that there is no recent stock data available for FORD. I should try fetching market insights instead.\n",
      "Action: Market Insights Retriever\n",
      "Action Input: ticker='FORD'\u001b[0m\n",
      "Observation: \u001b[38;5;200m\u001b[1;3m[{'url': 'https://stockanalysis.com/stocks/f/', 'content': 'Ford Motor Company (F) Stock Price, Quote & News - Stock Analysis Ford Motor Company (F) Kevin Roberts (@cargurus) notes uncertainty around Trump tariffs as a \"cloud hanging over the auto industry.\" That was seen clearly on Ford Motor Company\\'s (F) earnings call Wednesday where they expre... Ford Motor Co (NYSE: F) chief executive Jim Farley is concerned that President Trump\\'s planned tariffs could do more harm than good to the US automotive industry. Ford Motor Company (F) Q4 2024 Earnings Call Transcript Ford Motor Company (NYSE:F) Q4 2024 Earnings Conference Call February 5, 2025 5:00 PM ET Company Participants Lynn Antipas Tyson - Executive Director, Investor Relations Jim Farley - President & Chie...'}, {'url': 'https://finance.yahoo.com/quote/F/news/', 'content': 'Ford Motor Company (F) Latest Stock News & Headlines - Yahoo Finance ### Ford Motor (F)’s Mexico Problem: Jim Cramer Says Trump’s Tariffs Could Hit Hard We recently published a list of Jim Cramer Discusses These 11 Stocks & President Trump. In this article, we are going to take a look at where Ford Motor Company (NYSE:F) stands against other stocks that Jim Cramer discusses. ### Is Ford Motor Company (F) the Best Dividend Stock With 5% Yield? In this article, we are going to take a look at where Ford Motor Company (NYSE:F) stands against the other dividend stocks. ### Why Ford (F) Stock Is Down Today Shares of automotive manufacturer Ford (NYSE:F) fell 6.8% in the morning session after the company reported underwhelming fourth-quarter results, as 2025 guidance threw some cold water on things.'}, {'url': 'https://finance.yahoo.com/quote/F/', 'content': 'Ford Motor Company (F) Stock Price, News, Quote & History - Yahoo Finance Stock Market Stock Market Ford Motor Company (F) Ford Motor Company Overview Auto Manufacturers / Consumer Cyclical Ford Motor Company develops, delivers, and services a range of Ford trucks, commercial cars and vans, sport utility vehicles, and Lincoln luxury vehicles worldwide. The company sells Ford and Lincoln vehicles, service parts, and accessories through distributors and dealers, as well as through dealerships to commercial fleet customers, daily rental car companies, and governments. More about Ford Motor Company Select to analyze similar companies using key performance metrics; select up to 4 stocks. F Ford Motor Company Company Insights: F Research Reports: F F Ford Motor Company 9.24 -0.02 (-0.22%)'}, {'url': 'https://www.tradingview.com/symbols/NYSE-F/', 'content': 'Ford Stock Price and Chart — NYSE:F — TradingView What is FORD MTR CO DEL stock price today? Watch FORD MTR CO DEL stock price performance more closely on the chart. For instance, on NYSE exchange FORD MTR CO DEL stocks are traded under the ticker F. Is FORD MTR CO DEL stock price growing? Watch F chart and read a more detailed FORD MTR CO DEL stock forecast: see what analysts think of FORD MTR CO DEL and suggest that you do with its stocks. What are FORD MTR CO DEL stock highest and lowest prices ever? You can trade FORD MTR CO DEL stock right from TradingView charts — choose your broker and connect to your account.'}, {'url': 'https://www.barrons.com/market-data/stocks/f', 'content': \"Ford is making a comeback. It's time to buy the stock. The US auto maker is focused on returning capital to shareholders, which should boost performance in the\"}]\u001b[0m\n",
      "Thought:\u001b[32;1m\u001b[1;3mI have retrieved recent market insights for FORD. It seems that Ford Motor Company is facing challenges related to tariffs and underwhelming financial results.\n",
      "Final Answer: The latest market insights for FORD indicate challenges related to tariffs and financial performance.\u001b[0m\n",
      "\n",
      "\u001b[1m> Finished chain.\u001b[0m\n",
      "The latest market insights for FORD indicate challenges related to tariffs and financial performance.\n"
     ]
    }
   ],
   "source": [
    "# Define the query\n",
    "query = \"What is the latest stock data and market insights for FORD?\"\n",
    "\n",
    "# Run the agent with the query\n",
    "response = agent.run(query)\n",
    "\n",
    "# Print the response\n",
    "print(response)"
   ]
  },
  {
   "cell_type": "code",
   "execution_count": 5,
   "metadata": {},
   "outputs": [
    {
     "name": "stdout",
     "output_type": "stream",
     "text": [
      "('The latest market insights for FORD indicate concerns about Trump tariffs '\n",
      " 'and underwhelming fourth-quarter results.')\n"
     ]
    }
   ],
   "source": [
    "# Print the response\n",
    "pprint.pprint(response)"
   ]
  },
  {
   "cell_type": "code",
   "execution_count": null,
   "metadata": {},
   "outputs": [],
   "source": []
  }
 ],
 "metadata": {
  "kernelspec": {
   "display_name": "genAI",
   "language": "python",
   "name": "python3"
  },
  "language_info": {
   "codemirror_mode": {
    "name": "ipython",
    "version": 3
   },
   "file_extension": ".py",
   "mimetype": "text/x-python",
   "name": "python",
   "nbconvert_exporter": "python",
   "pygments_lexer": "ipython3",
   "version": "3.12.9"
  }
 },
 "nbformat": 4,
 "nbformat_minor": 2
}
